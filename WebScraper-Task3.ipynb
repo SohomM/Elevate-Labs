{
 "cells": [
  {
   "cell_type": "code",
   "execution_count": null,
   "id": "c1251aab-eec9-4390-b112-96af6842a324",
   "metadata": {},
   "outputs": [],
   "source": [
    "import requests\n",
    "from bs4 import BeautifulSoup\n",
    "\n",
    "def get_dynamic_headlines(url):\n",
    "    response = requests.get(url)\n",
    "    if response.status_code != 200:\n",
    "        print(f\"Failed to fetch {url} (Status: {response.status_code})\")\n",
    "        return []\n",
    "\n",
    "    soup = BeautifulSoup(response.text, \"html.parser\")\n",
    "    headline_candidates = []\n",
    "\n",
    "    # try likely headline tags/classes\n",
    "    headline_tags = [\n",
    "        ('h1', None), ('h2', None), ('h3', None),\n",
    "        ('a', 'headline'), ('a', 'title'), ('span', 'headline'),\n",
    "        ('div', 'headline'), ('h2', 'headline'), ('h3', 'headline')\n",
    "    ]\n",
    "\n",
    "    for tag, class_name in headline_tags:\n",
    "        if class_name:\n",
    "            elements = soup.find_all(tag, class_=class_name)\n",
    "        else:\n",
    "            elements = soup.find_all(tag)\n",
    "        for elem in elements:\n",
    "            text = elem.get_text().strip()\n",
    "            if text and len(text.split()) > 3:  # filter for plausible headlines\n",
    "                headline_candidates.append(text)\n",
    "\n",
    "    # Remove duplicates, keep order\n",
    "    seen = set()\n",
    "    headlines = []\n",
    "    for headline in headline_candidates:\n",
    "        if headline not in seen:\n",
    "            headlines.append(headline)\n",
    "            seen.add(headline)\n",
    "\n",
    "    return headlines\n",
    "\n",
    "# Ask user for a URL\n",
    "url = input(\"Enter any news page URL: \").strip()\n",
    "headlines = get_dynamic_headlines(url)\n",
    "\n",
    "with open(\"dynamic_headlines.txt\", \"w\", encoding=\"utf-8\") as f:\n",
    "    for idx, title in enumerate(headlines, 1):\n",
    "        f.write(f\"{idx}. {title}\\n\")\n",
    "\n",
    "print(f\"Saved {len(headlines)} headlines to dynamic_headlines.txt\")\n"
   ]
  }
 ],
 "metadata": {
  "kernelspec": {
   "display_name": "Python 3 (ipykernel)",
   "language": "python",
   "name": "python3"
  },
  "language_info": {
   "codemirror_mode": {
    "name": "ipython",
    "version": 3
   },
   "file_extension": ".py",
   "mimetype": "text/x-python",
   "name": "python",
   "nbconvert_exporter": "python",
   "pygments_lexer": "ipython3",
   "version": "3.13.2"
  }
 },
 "nbformat": 4,
 "nbformat_minor": 5
}
