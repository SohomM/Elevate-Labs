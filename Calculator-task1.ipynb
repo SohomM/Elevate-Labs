{
 "cells": [
  {
   "cell_type": "code",
   "execution_count": null,
   "id": "23864e5b-83f0-40b3-9990-8ea7f0edbe50",
   "metadata": {},
   "outputs": [],
   "source": [
    "\n",
    "\n",
    "def add(a, b):\n",
    "    return a + b\n",
    "\n",
    "def subtract(a, b):\n",
    "    return a - b\n",
    "\n",
    "def multiply(a, b):\n",
    "    return a * b\n",
    "\n",
    "def divide(a, b):\n",
    "    if b == 0:\n",
    "        return \"Error: Division by zero\"\n",
    "    return a / b\n",
    "\n",
    "def calculator():\n",
    "    while True:\n",
    "        print(\"\\nSelect operation:\")\n",
    "        print(\"1. Add\")\n",
    "        print(\"2. Subtract\")\n",
    "        print(\"3. Multiply\")\n",
    "        print(\"4. Divide\")\n",
    "        print(\"5. Exit\")\n",
    "        \n",
    "        choice = input(\"Enter choice (1-5): \")\n",
    "        \n",
    "        if choice == '5':\n",
    "            print(\"Exiting the calculator. Goodbye!\")\n",
    "            break\n",
    "        \n",
    "        if choice in ('1', '2', '3', '4'):\n",
    "            try:\n",
    "                num1 = float(input(\"Enter first number: \"))\n",
    "                num2 = float(input(\"Enter second number: \"))\n",
    "            except ValueError:\n",
    "                print(\"Invalid input. Please enter numeric values.\")\n",
    "                continue\n",
    "            \n",
    "            if choice == '1':\n",
    "                print(f\"Result: {add(num1, num2)}\")\n",
    "            elif choice == '2':\n",
    "                print(f\"Result: {subtract(num1, num2)}\")\n",
    "            elif choice == '3':\n",
    "                print(f\"Result: {multiply(num1, num2)}\")\n",
    "            elif choice == '4':\n",
    "                print(f\"Result: {divide(num1, num2)}\")\n",
    "        else:\n",
    "            print(\"Invalid choice. Please select a valid option.\")\n",
    "\n",
    "if __name__ == \"__main__\":\n",
    "    calculator()\n"
   ]
  }
 ],
 "metadata": {
  "kernelspec": {
   "display_name": "Python 3 (ipykernel)",
   "language": "python",
   "name": "python3"
  },
  "language_info": {
   "codemirror_mode": {
    "name": "ipython",
    "version": 3
   },
   "file_extension": ".py",
   "mimetype": "text/x-python",
   "name": "python",
   "nbconvert_exporter": "python",
   "pygments_lexer": "ipython3",
   "version": "3.13.2"
  }
 },
 "nbformat": 4,
 "nbformat_minor": 5
}
